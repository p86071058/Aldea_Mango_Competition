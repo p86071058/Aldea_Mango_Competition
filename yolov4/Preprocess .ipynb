{
  "nbformat": 4,
  "nbformat_minor": 0,
  "metadata": {
    "colab": {
      "name": "Preprocess.ipynb",
      "provenance": [],
      "collapsed_sections": [
        "sNqkuzLK68HX"
      ]
    },
    "kernelspec": {
      "name": "python3",
      "display_name": "Python 3"
    }
  },
  "cells": [
    {
      "cell_type": "code",
      "metadata": {
        "id": "puvfdSLAkv29"
      },
      "source": [
        "import os\r\n",
        "import shutil\r\n",
        "import cv2\r\n",
        "import numpy as np\r\n",
        "import pandas as pd\r\n",
        "import matplotlib.pyplot as plt"
      ],
      "execution_count": null,
      "outputs": []
    },
    {
      "cell_type": "code",
      "metadata": {
        "id": "WjicV4VnY9gw"
      },
      "source": [
        "def load_csv(csv_path, file_name):\n",
        "    dataset = pd.read_csv(os.path.join(csv_path, file_name), low_memory = False)\n",
        "    # dataset = pd.read_csv(os.path.join(csv_path, file_name), header = None, low_memory = False)\n",
        "    dataset.fillna('1', inplace = True)\n",
        "    dataset_array = np.array(dataset)\n",
        "    return dataset, dataset_array\n",
        "\n",
        "def segment(data):\n",
        "    feature_set= []\n",
        "    img_name = []\n",
        "    demension = len(data[0])\n",
        "    segment = list(range(1, demension, 5))\n",
        "    for i in range(len(data)):\n",
        "        for seg in segment:\n",
        "            if data[i][seg] == '1':\n",
        "                pass\n",
        "            else:\n",
        "                sub_data = data[i][seg:seg + 5]\n",
        "                img = data[i][0]\n",
        "                feature_set.append(sub_data)\n",
        "                img_name.append(img)\n",
        "    img_name = np.array(img_name)\n",
        "    feature_set = np.array(feature_set)\n",
        "    label = feature_set[:,4]\n",
        "    w_h = feature_set[:,:4].astype('float32')\n",
        "    return img_name, feature_set, label, w_h\n",
        "  \n",
        "def scale_bbox(cor, x_scale, y_scale):\n",
        "  x, y, w ,h = cor\n",
        "  x, y ,w ,h = int(np.round(x * x_scale)), int(np.round(y * y_scale)),\\\n",
        "               int(np.round(w * x_scale)), int(np.round(h * y_scale))\n",
        "  return x, y ,w ,h\n",
        "\n",
        "def label_transform(category):\n",
        "  if category == '不良-乳汁吸附':\n",
        "    label = 0\n",
        "  elif category == '不良-機械傷害':\n",
        "    label = 1\n",
        "  elif category == '不良-炭疽病':\n",
        "    label = 2\n",
        "  elif category == '不良-著色不佳':\n",
        "    label = 3\n",
        "  else:\n",
        "    label = 4\n",
        "  return label"
      ],
      "execution_count": null,
      "outputs": []
    },
    {
      "cell_type": "code",
      "metadata": {
        "id": "EiAzXt9vaHFU"
      },
      "source": [
        "# csv_path = '/content/drive/My Drive/project/mango/sample/label'\r\n",
        "# image_path = '/content/drive/My Drive/project/mango/sample/image/'\r\n",
        "\r\n",
        "# csv_path = '/content/drive/My Drive/project/mango/train_dev/'\r\n",
        "# image_path = '/content/drive/My Drive/project/mango/train_dev/Train/'\r\n",
        "# yolo_train_path = '/content/drive/My Drive/project/mango/mango_detection/yolo_train/'\r\n",
        "# write_txt = '/content/drive/My Drive/project/mango/mango_detection/cfg/train.txt'\r\n",
        "\r\n",
        "\r\n",
        "# csv_path = '/content/drive/My Drive/project/mango/train_dev/'\r\n",
        "# image_path = '/content/drive/My Drive/project/mango/train_dev/Dev/\r\n",
        "# yolo_val_path = '/content/drive/My Drive/project/mango/mango_detection/yolo_val/'\r\n",
        "# write_txt = '/content/drive/My Drive/project/mango/mango_detection/cfg/val.txt'\r\n",
        "\r\n",
        "csv_path = '/content/drive/My Drive/project/mango/test/'\r\n",
        "image_path = '/content/drive/My Drive/project/mango/test/image/Test/'\r\n",
        "yolo_test_path = '/content/drive/My Drive/project/mango/mango_detection/yolo_test/'\r\n",
        "write_txt = '/content/drive/My Drive/project/mango/mango_detection/cfg/test.txt'"
      ],
      "execution_count": null,
      "outputs": []
    },
    {
      "cell_type": "code",
      "metadata": {
        "id": "D_6wjPvbqn_m"
      },
      "source": [
        "# dataset, dataset_array = load_csv(csv_path, 'label.csv')\r\n",
        "# dataset, dataset_array = load_csv(csv_path, 'train.csv')\r\n",
        "# dataset, dataset_array = load_csv(csv_path, 'dev.csv')\r\n",
        "dataset, dataset_array = load_csv(csv_path, 'Test_mangoXYWH.csv')"
      ],
      "execution_count": null,
      "outputs": []
    },
    {
      "cell_type": "code",
      "metadata": {
        "colab": {
          "base_uri": "https://localhost:8080/"
        },
        "id": "4qc91yuAupE1",
        "outputId": "920df187-4c34-463e-ce75-42bd252ce036"
      },
      "source": [
        "len(dataset_array)"
      ],
      "execution_count": null,
      "outputs": [
        {
          "output_type": "execute_result",
          "data": {
            "text/plain": [
              "7363"
            ]
          },
          "metadata": {
            "tags": []
          },
          "execution_count": 9
        }
      ]
    },
    {
      "cell_type": "code",
      "metadata": {
        "id": "Ix3wECR3dbQ9"
      },
      "source": [
        "img_name, feature_set, label, w_h = segment(dataset_array)\r\n",
        "x_y_min = w_h[:, 0:2].astype(np.int32)\r\n",
        "x_y_max = np.add(w_h[:, 0:2], w_h[:, 2:]).astype(np.int32)\r\n",
        "b_box = np.concatenate((x_y_min, x_y_max), axis = 1)"
      ],
      "execution_count": null,
      "outputs": []
    },
    {
      "cell_type": "code",
      "metadata": {
        "id": "ZB3hiBXqX6dx"
      },
      "source": [
        "data_counter = 20017\r\n",
        "\r\n",
        "for idx in range(20017, len(img_name)):\r\n",
        "  origin_img_path = os.path.join(image_path, img_name[idx])\r\n",
        "  image = plt.imread(origin_img_path)\r\n",
        "  r_image = cv2.resize(image, (416, 416))\r\n",
        "  x_scale, y_scale = (416 / image.shape[1]), (416 / image.shape[0])\r\n",
        "  r_image_path = os.path.join(yolo_train_path, str(data_counter) + '.jpg')\r\n",
        "  plt.imsave(r_image_path, r_image)\r\n",
        "  image_size = [r_image.shape[1], r_image.shape[0]]\r\n",
        "  # save image path\r\n",
        "  # with open(write_txt, 'a') as f:\r\n",
        "  #   line_txt = [yolo_train_path + str(data_counter) + '.jpg', '\\n']\r\n",
        "  #   f.writelines(line_txt)\r\n",
        "  \r\n",
        "  data_counter += 1\r\n",
        "  \r\n",
        "  new_bbox = scale_bbox(b_box[idx], x_scale, y_scale)\r\n",
        "  x, y, w, h = convert(image_size, new_bbox)\r\n",
        "  category = label_transform(label[idx])\r\n",
        "  with open(yolo_train_path + str(data_counter - 1) +'.txt', 'a+') as f:\r\n",
        "    f.write(category + ' %s %s %s %s\\n' % (x, y, w, h))\r\n"
      ],
      "execution_count": null,
      "outputs": []
    },
    {
      "cell_type": "code",
      "metadata": {
        "id": "WcoB6HXnhQmm"
      },
      "source": [
        "data_counter = 0\r\n",
        "\r\n",
        "for idx in range(len(img_name)):\r\n",
        "  origin_img_path = os.path.join(image_path, img_name[idx])\r\n",
        "  image = plt.imread(origin_img_path)\r\n",
        "  r_image = cv2.resize(image, (416, 416))\r\n",
        "  x_scale, y_scale = (416 / image.shape[1]), (416 / image.shape[0])\r\n",
        "  r_image_path = os.path.join(yolo_train_path, str(data_counter) + '.jpg')\r\n",
        "  plt.imsave(r_image_path, r_image)\r\n",
        "  image_size = [r_image.shape[1], r_image.shape[0]]\r\n",
        "  # save image path\r\n",
        "  with open(write_txt, 'a') as f:\r\n",
        "    line_txt = [yolo_train_path + str(data_counter) + '.jpg', '\\n']\r\n",
        "    f.writelines(line_txt)\r\n",
        "  \r\n",
        "  data_counter += 1\r\n",
        "  \r\n",
        "  new_bbox = scale_bbox(b_box[idx], x_scale, y_scale)\r\n",
        "  x, y, w, h = convert(image_size, new_bbox)\r\n",
        "  category = label_transform(label[idx])\r\n",
        "  with open(yolo_train_path + str(data_counter - 1) +'.txt', 'a+') as f:\r\n",
        "    f.write(category + ' %s %s %s %s\\n' % (x, y, w, h))\r\n"
      ],
      "execution_count": null,
      "outputs": []
    },
    {
      "cell_type": "code",
      "metadata": {
        "id": "GVldkkDs0Amk"
      },
      "source": [
        "for i in range(0, 6280):\r\n",
        "  old_name = os.path.join(yolo_val_path, 'val_label_' + str(i) + '.txt')\r\n",
        "  new_name = os.path.join(yolo_val_path, str(i) + '.txt')\r\n",
        "  os.rename(old_name, new_name)"
      ],
      "execution_count": null,
      "outputs": []
    },
    {
      "cell_type": "code",
      "metadata": {
        "id": "YjWSFa4-w6MQ"
      },
      "source": [
        "for i in range(0, 43370):\r\n",
        "  old_name = os.path.join(yolo_train_path, 'train_label_' + str(i) + '.txt')\r\n",
        "  new_name = os.path.join(yolo_train_path, str(i) + '.txt')\r\n",
        "  os.rename(old_name, new_name)"
      ],
      "execution_count": null,
      "outputs": []
    },
    {
      "cell_type": "markdown",
      "metadata": {
        "id": "sNqkuzLK68HX"
      },
      "source": [
        "#Val"
      ]
    },
    {
      "cell_type": "code",
      "metadata": {
        "id": "-6hLD3JX6n7X"
      },
      "source": [
        "data_counter = 0\r\n",
        "\r\n",
        "for idx in range(len(img_name)):\r\n",
        "  origin_img_path = os.path.join(image_path, img_name[idx])\r\n",
        "  image = plt.imread(origin_img_path)\r\n",
        "  r_image = cv2.resize(image, (416, 416))\r\n",
        "  x_scale, y_scale = (416 / image.shape[1]), (416 / image.shape[0])\r\n",
        "  r_image_path = os.path.join(yolo_val_path, str(data_counter) + '.jpg')\r\n",
        "  plt.imsave(r_image_path, r_image)\r\n",
        "  image_size = [r_image.shape[1], r_image.shape[0]]\r\n",
        "  # save image path\r\n",
        "  # with open(write_txt, 'a') as f:\r\n",
        "  #   line_txt = [yolo_val_path + str(data_counter) + '.jpg', '\\n']\r\n",
        "  #   f.writelines(line_txt)\r\n",
        "  \r\n",
        "  data_counter += 1\r\n",
        "  # label_list = list()\r\n",
        "  # sub_count = 1\r\n",
        "  \r\n",
        "  new_bbox = scale_bbox(b_box[idx], x_scale, y_scale)\r\n",
        "  x, y, w, h = convert(image_size, new_bbox)\r\n",
        "  category = label_transform(label[idx])\r\n",
        "  with open(yolo_val_path + str(data_counter - 1) +'.txt', 'a+') as f:\r\n",
        "    f.write(category + ' %s %s %s %s\\n' % (x, y, w, h))\r\n"
      ],
      "execution_count": null,
      "outputs": []
    },
    {
      "cell_type": "code",
      "metadata": {
        "id": "0iIZifXHK8vn",
        "colab": {
          "base_uri": "https://localhost:8080/"
        },
        "outputId": "6e6ab6a9-60ac-44fe-b5a9-30db785705eb"
      },
      "source": [
        "data_counter"
      ],
      "execution_count": null,
      "outputs": [
        {
          "output_type": "execute_result",
          "data": {
            "text/plain": [
              "6280"
            ]
          },
          "metadata": {
            "tags": []
          },
          "execution_count": 9
        }
      ]
    },
    {
      "cell_type": "markdown",
      "metadata": {
        "id": "DAziGnPb696Y"
      },
      "source": [
        "#Test"
      ]
    },
    {
      "cell_type": "code",
      "metadata": {
        "colab": {
          "base_uri": "https://localhost:8080/",
          "height": 35
        },
        "id": "jRzukloqyR2A",
        "outputId": "af41902b-e87f-429d-c800-51ecefd496f5"
      },
      "source": [
        "os.path.join(yolo_test_path, dataset_array[0, 0])"
      ],
      "execution_count": null,
      "outputs": [
        {
          "output_type": "execute_result",
          "data": {
            "application/vnd.google.colaboratory.intrinsic+json": {
              "type": "string"
            },
            "text/plain": [
              "'/content/drive/My Drive/project/mango/mango_detection/yolo_test/39983.jpg'"
            ]
          },
          "metadata": {
            "tags": []
          },
          "execution_count": 20
        }
      ]
    },
    {
      "cell_type": "code",
      "metadata": {
        "id": "D4qqLlHHm1PT"
      },
      "source": [
        "for idx in range(len(dataset_array)):\r\n",
        "  img = plt.imread(os.path.join(image_path, dataset_array[idx, 0]))\r\n",
        "  x, y, w, h = dataset_array[idx, 1:].astype(np.int32)\r\n",
        "  r_image = cv2.resize(img, (416, 416))\r\n",
        "  x_scale, y_scale = (416 / img.shape[1]), (416 / img.shape[0])\r\n",
        "  x, y, w, h = int(np.round(x * x_scale)), int(np.round(y * y_scale)),\\\r\n",
        "               int(np.round(w * x_scale)), int(np.round(h * y_scale))\r\n",
        "  crop_image = r_image[y:y+h, x:x+w]\r\n",
        "  plt.imsave(os.path.join(yolo_test_path, dataset_array[idx, 0]), crop_image)\r\n",
        "  with open(write_txt + '.txt', 'a') as f:\r\n",
        "    line_txt = [yolo_test_path + dataset_array[idx, 0], '\\n']\r\n",
        "    f.writelines(line_txt)"
      ],
      "execution_count": null,
      "outputs": []
    },
    {
      "cell_type": "code",
      "metadata": {
        "id": "gZ63nD_mzrJn"
      },
      "source": [
        "with open(yolo_train_path + 'train_label_' + str(0) +'.txt', 'a+') as f:\r\n",
        "  f.write(str(1) + ' %s %s %s %s\\n' % (1, 2, 3, 4))"
      ],
      "execution_count": null,
      "outputs": []
    },
    {
      "cell_type": "code",
      "metadata": {
        "colab": {
          "base_uri": "https://localhost:8080/",
          "height": 35
        },
        "id": "kKC0Saz8Ibub",
        "outputId": "f4d1abe8-dceb-4976-829c-20fb05255fa6"
      },
      "source": [
        "label[0]"
      ],
      "execution_count": null,
      "outputs": [
        {
          "output_type": "execute_result",
          "data": {
            "application/vnd.google.colaboratory.intrinsic+json": {
              "type": "string"
            },
            "text/plain": [
              "'不良-機械傷害'"
            ]
          },
          "metadata": {
            "tags": []
          },
          "execution_count": 12
        }
      ]
    },
    {
      "cell_type": "code",
      "metadata": {
        "id": "gEzh7_tUIc7O"
      },
      "source": [
        "counter = 0\r\n",
        "for i in range(5):\r\n",
        "  with open(write_txt, 'a') as f:\r\n",
        "    line_txt = [yolo_train_path + str(counter) + '.jpg', '\\n']\r\n",
        "    f.writelines(line_txt)\r\n",
        "  counter += 1"
      ],
      "execution_count": null,
      "outputs": []
    },
    {
      "cell_type": "code",
      "metadata": {
        "colab": {
          "base_uri": "https://localhost:8080/",
          "height": 35
        },
        "id": "1N9aA5TjNB8p",
        "outputId": "5266218d-f20e-4dac-8124-1018ee865a61"
      },
      "source": [
        "write_txt"
      ],
      "execution_count": null,
      "outputs": [
        {
          "output_type": "execute_result",
          "data": {
            "application/vnd.google.colaboratory.intrinsic+json": {
              "type": "string"
            },
            "text/plain": [
              "'/content/drive/My Drive/project/mango/mango_detection/cfg/train.txt'"
            ]
          },
          "metadata": {
            "tags": []
          },
          "execution_count": 18
        }
      ]
    },
    {
      "cell_type": "code",
      "metadata": {
        "id": "o5fjSsFhNGpX"
      },
      "source": [
        ""
      ],
      "execution_count": null,
      "outputs": []
    }
  ]
}